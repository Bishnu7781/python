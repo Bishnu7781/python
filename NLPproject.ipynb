{
  "nbformat": 4,
  "nbformat_minor": 0,
  "metadata": {
    "colab": {
      "provenance": [],
      "authorship_tag": "ABX9TyMLctsTgOcDFNxWwPS0m1hi",
      "include_colab_link": true
    },
    "kernelspec": {
      "name": "python3",
      "display_name": "Python 3"
    },
    "language_info": {
      "name": "python"
    }
  },
  "cells": [
    {
      "cell_type": "markdown",
      "metadata": {
        "id": "view-in-github",
        "colab_type": "text"
      },
      "source": [
        "<a href=\"https://colab.research.google.com/github/Bishnu7781/python/blob/main/NLPproject.ipynb\" target=\"_parent\"><img src=\"https://colab.research.google.com/assets/colab-badge.svg\" alt=\"Open In Colab\"/></a>"
      ]
    },
    {
      "cell_type": "code",
      "source": [
        "import re\n",
        "\n",
        "text =\"I am a data scientist\"\n",
        "pattern = \"am\"\n",
        "\n",
        "match = re.search(pattern,text)\n",
        "if match:\n",
        "  print(\"Found a match:\",match.group())\n",
        "else:\n",
        "  print(\"No match Found\")"
      ],
      "metadata": {
        "colab": {
          "base_uri": "https://localhost:8080/"
        },
        "id": "dTNzWisQcrK1",
        "outputId": "df7a6fc7-5ba4-4d1a-f280-f775927925d2"
      },
      "execution_count": 15,
      "outputs": [
        {
          "output_type": "stream",
          "name": "stdout",
          "text": [
            "Found a match: am\n"
          ]
        }
      ]
    },
    {
      "cell_type": "code",
      "source": [
        "text =\"I am a data analyst\"\n",
        "pattern = \"analyst\"\n",
        "replacement =\"scientist\"\n",
        "\n",
        "new_text =re.sub(pattern,replacement,text)\n",
        "print(\"Original Text:\",text)\n",
        "print(\"New Text:\",new_text)"
      ],
      "metadata": {
        "colab": {
          "base_uri": "https://localhost:8080/"
        },
        "id": "Cgpctc_ecvY7",
        "outputId": "bf08fd44-7ccc-4d8a-fa16-34837eb919fd"
      },
      "execution_count": 16,
      "outputs": [
        {
          "output_type": "stream",
          "name": "stdout",
          "text": [
            "Original Text: I am a data analyst\n",
            "New Text: I am a data scientist\n"
          ]
        }
      ]
    },
    {
      "cell_type": "code",
      "source": [
        "test1 = \"Hey, this is best : for ! us ;\"\n",
        "\n",
        "print(\"the original string is:\",test1)\n",
        "res =  re.sub(r'[^\\w\\s]',' ',test1)\n",
        "print(\"The String after punctuation filter :\"+res)"
      ],
      "metadata": {
        "colab": {
          "base_uri": "https://localhost:8080/"
        },
        "id": "E2PEx9RVdKR8",
        "outputId": "419e3d3e-045e-47d1-a726-64335810b4a3"
      },
      "execution_count": 17,
      "outputs": [
        {
          "output_type": "stream",
          "name": "stdout",
          "text": [
            "the original string is: Hey, this is best : for ! us ;\n",
            "The String after punctuation filter :Hey  this is best   for   us  \n"
          ]
        }
      ]
    },
    {
      "cell_type": "code",
      "source": [
        "import nltk\n",
        "nltk.download('punkt_tab')\n"
      ],
      "metadata": {
        "colab": {
          "base_uri": "https://localhost:8080/"
        },
        "id": "qyW-TCDmdpkw",
        "outputId": "7eca4bd1-b497-4f9b-c1a9-447cf1a0c39a"
      },
      "execution_count": 18,
      "outputs": [
        {
          "output_type": "stream",
          "name": "stderr",
          "text": [
            "[nltk_data] Downloading package punkt_tab to /root/nltk_data...\n",
            "[nltk_data]   Package punkt_tab is already up-to-date!\n"
          ]
        },
        {
          "output_type": "execute_result",
          "data": {
            "text/plain": [
              "True"
            ]
          },
          "metadata": {},
          "execution_count": 18
        }
      ]
    },
    {
      "cell_type": "code",
      "source": [
        "text = \"This is an example sentence. Another sentence is here \"\n",
        "tokens = nltk.word_tokenize(text)\n",
        "print(tokens)"
      ],
      "metadata": {
        "colab": {
          "base_uri": "https://localhost:8080/"
        },
        "id": "KrNGe6dbdtOl",
        "outputId": "c688ac28-74e2-4326-8c01-b7235a4dfd1e"
      },
      "execution_count": 19,
      "outputs": [
        {
          "output_type": "stream",
          "name": "stdout",
          "text": [
            "['This', 'is', 'an', 'example', 'sentence', '.', 'Another', 'sentence', 'is', 'here']\n"
          ]
        }
      ]
    },
    {
      "cell_type": "code",
      "source": [
        "text = \"This is the first sentence. This is the second sentence. and this is the third sentence.\"\n",
        "sentence = nltk.sent_tokenize(text)\n",
        "print(sentence)"
      ],
      "metadata": {
        "colab": {
          "base_uri": "https://localhost:8080/"
        },
        "id": "UJNC4QSBdwlq",
        "outputId": "56f5f90a-219d-4140-c1f3-2b181f1785b4"
      },
      "execution_count": 20,
      "outputs": [
        {
          "output_type": "stream",
          "name": "stdout",
          "text": [
            "['This is the first sentence.', 'This is the second sentence.', 'and this is the third sentence.']\n"
          ]
        }
      ]
    },
    {
      "cell_type": "code",
      "source": [
        "from nltk.util import ngrams\n",
        "\n",
        "text = \"The quick brown fowx jump over the lazy dog\"\n",
        "\n",
        "tokens = nltk.word_tokenize(text)\n",
        "\n",
        "bigrams = list(ngrams(tokens,2))\n",
        "trigrams = list(ngrams(tokens,3))\n",
        "\n",
        "print(\"Original text:\",text)\n",
        "print(\"Tokens:\",tokens)\n",
        "print(\"Bigrams:\",bigrams)\n",
        "print(\"Trigrams:\",trigrams)"
      ],
      "metadata": {
        "colab": {
          "base_uri": "https://localhost:8080/"
        },
        "id": "EGRtA-5xd2fu",
        "outputId": "00f0f4b9-4e6c-4b9c-bb06-4df4da9727ec"
      },
      "execution_count": 21,
      "outputs": [
        {
          "output_type": "stream",
          "name": "stdout",
          "text": [
            "Original text: The quick brown fowx jump over the lazy dog\n",
            "Tokens: ['The', 'quick', 'brown', 'fowx', 'jump', 'over', 'the', 'lazy', 'dog']\n",
            "Bigrams: [('The', 'quick'), ('quick', 'brown'), ('brown', 'fowx'), ('fowx', 'jump'), ('jump', 'over'), ('over', 'the'), ('the', 'lazy'), ('lazy', 'dog')]\n",
            "Trigrams: [('The', 'quick', 'brown'), ('quick', 'brown', 'fowx'), ('brown', 'fowx', 'jump'), ('fowx', 'jump', 'over'), ('jump', 'over', 'the'), ('over', 'the', 'lazy'), ('the', 'lazy', 'dog')]\n"
          ]
        }
      ]
    },
    {
      "cell_type": "code",
      "source": [
        "from nltk.stem import PorterStemmer\n",
        "\n",
        "stemmer = PorterStemmer()\n",
        "\n",
        "word = \"Jumping\"\n",
        "stemmed_word = stemmer.stem(word)\n",
        "print(stemmed_word)"
      ],
      "metadata": {
        "colab": {
          "base_uri": "https://localhost:8080/"
        },
        "id": "5V3of2azd6oa",
        "outputId": "fdf69b2d-e353-49f6-c509-21c11a8a4a8a"
      },
      "execution_count": 22,
      "outputs": [
        {
          "output_type": "stream",
          "name": "stdout",
          "text": [
            "jump\n"
          ]
        }
      ]
    },
    {
      "cell_type": "code",
      "source": [
        "import nltk\n",
        "nltk.download('omw-1.4')\n",
        "from nltk.stem import WordNetLemmatizer\n",
        "\n",
        "nltk.download('wordnet')\n",
        "\n",
        "lemmatizer = WordNetLemmatizer()\n",
        "word = \"jumping\"\n",
        "\n",
        "lemma_word = lemmatizer.lemmatize(word, pos=\"v\")\n",
        "\n",
        "print(lemma_word)"
      ],
      "metadata": {
        "colab": {
          "base_uri": "https://localhost:8080/"
        },
        "id": "9o_EI3ZRd-Zi",
        "outputId": "82f62625-9819-4736-eb5e-39d061adeb37"
      },
      "execution_count": 23,
      "outputs": [
        {
          "output_type": "stream",
          "name": "stderr",
          "text": [
            "[nltk_data] Downloading package omw-1.4 to /root/nltk_data...\n",
            "[nltk_data] Downloading package wordnet to /root/nltk_data...\n"
          ]
        },
        {
          "output_type": "stream",
          "name": "stdout",
          "text": [
            "jump\n"
          ]
        }
      ]
    },
    {
      "cell_type": "code",
      "source": [
        "from nltk.corpus import stopwords\n",
        "nltk.download('stopwords')\n",
        "\n",
        "stop_words = set(stopwords.words('english'))\n",
        "\n",
        "text = \"this is an example sentence that includes stop words\"\n",
        "\n",
        "tokens = nltk.word_tokenize(text)\n",
        "\n",
        "filtered_tokens = [word for word in tokens if not word.lower() in stop_words]\n",
        "\n",
        "filtered_text = ' '.join(filtered_tokens)\n",
        "\n",
        "print(\"data\",filtered_text)"
      ],
      "metadata": {
        "colab": {
          "base_uri": "https://localhost:8080/"
        },
        "id": "kHZfkfIbeD81",
        "outputId": "bd4d3759-c4f3-40fc-80a1-d1f1e6c61597"
      },
      "execution_count": 24,
      "outputs": [
        {
          "output_type": "stream",
          "name": "stdout",
          "text": [
            "data example sentence includes stop words\n"
          ]
        },
        {
          "output_type": "stream",
          "name": "stderr",
          "text": [
            "[nltk_data] Downloading package stopwords to /root/nltk_data...\n",
            "[nltk_data]   Package stopwords is already up-to-date!\n"
          ]
        }
      ]
    },
    {
      "cell_type": "code",
      "source": [
        "from nltk.tokenize import word_tokenize\n",
        "nltk.download('averaged_perceptron_tagger_eng')\n",
        "\n",
        "text = \"The quick brown fox jumps over the lazy dog\"\n",
        "tokens = word_tokenize(text)\n",
        "pos_tags = nltk.pos_tag(tokens)\n",
        "print(pos_tags)"
      ],
      "metadata": {
        "colab": {
          "base_uri": "https://localhost:8080/"
        },
        "id": "MemTCmHOeGM0",
        "outputId": "4722cc67-47fc-4eec-b016-26833e524f9f"
      },
      "execution_count": 25,
      "outputs": [
        {
          "output_type": "stream",
          "name": "stderr",
          "text": [
            "[nltk_data] Downloading package averaged_perceptron_tagger_eng to\n",
            "[nltk_data]     /root/nltk_data...\n",
            "[nltk_data]   Unzipping taggers/averaged_perceptron_tagger_eng.zip.\n"
          ]
        },
        {
          "output_type": "stream",
          "name": "stdout",
          "text": [
            "[('The', 'DT'), ('quick', 'JJ'), ('brown', 'NN'), ('fox', 'NN'), ('jumps', 'VBZ'), ('over', 'IN'), ('the', 'DT'), ('lazy', 'JJ'), ('dog', 'NN')]\n"
          ]
        }
      ]
    },
    {
      "cell_type": "code",
      "source": [
        "from nltk import pos_tag, ne_chunk\n",
        "nltk.download('maxent_ne_chunker_tab')\n",
        "nltk.download('words')\n",
        "\n",
        "text = \"Apple is expected to launch its new iPhone is September at the Steve Jobs Theater in California.\"\n",
        "\n",
        "tokens = word_tokenize(text)\n",
        "\n",
        "tagged = pos_tag(tokens)\n",
        "\n",
        "ne = ne_chunk(tagged)\n",
        "\n",
        "for chunk in ne:\n",
        "  if hasattr(chunk,'label'):\n",
        "    print(chunk.label(),' '.join(c[0] for c in chunk))"
      ],
      "metadata": {
        "colab": {
          "base_uri": "https://localhost:8080/"
        },
        "id": "Dx37t3UPeOdt",
        "outputId": "7edf192a-b6e0-440d-bae4-00c7c0680010"
      },
      "execution_count": 26,
      "outputs": [
        {
          "output_type": "stream",
          "name": "stderr",
          "text": [
            "[nltk_data] Downloading package maxent_ne_chunker_tab to\n",
            "[nltk_data]     /root/nltk_data...\n",
            "[nltk_data]   Unzipping chunkers/maxent_ne_chunker_tab.zip.\n",
            "[nltk_data] Downloading package words to /root/nltk_data...\n",
            "[nltk_data]   Package words is already up-to-date!\n"
          ]
        },
        {
          "output_type": "stream",
          "name": "stdout",
          "text": [
            "GPE Apple\n",
            "ORGANIZATION iPhone\n",
            "PERSON Steve Jobs\n",
            "GPE California\n"
          ]
        }
      ]
    },
    {
      "cell_type": "code",
      "source": [
        "from nltk.sentiment import SentimentIntensityAnalyzer\n",
        "nltk.download('vader_lexicon')\n",
        "\n",
        "sid = SentimentIntensityAnalyzer()\n",
        "\n",
        "text = \"I hate this product It would not work perfectly and I would definetly recommend it to anyone\"\n",
        "\n",
        "scores = sid.polarity_scores(text)\n",
        "\n",
        "print(scores)"
      ],
      "metadata": {
        "colab": {
          "base_uri": "https://localhost:8080/"
        },
        "id": "XCjJeNddeWV0",
        "outputId": "46636b3d-551e-4891-91d6-bf8be8f5b24b"
      },
      "execution_count": 27,
      "outputs": [
        {
          "output_type": "stream",
          "name": "stdout",
          "text": [
            "{'neg': 0.328, 'neu': 0.556, 'pos': 0.116, 'compound': -0.6776}\n"
          ]
        },
        {
          "output_type": "stream",
          "name": "stderr",
          "text": [
            "[nltk_data] Downloading package vader_lexicon to /root/nltk_data...\n"
          ]
        }
      ]
    }
  ]
}